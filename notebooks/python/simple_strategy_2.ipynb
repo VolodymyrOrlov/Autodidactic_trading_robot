{
 "cells": [
  {
   "cell_type": "code",
   "execution_count": null,
   "metadata": {},
   "outputs": [],
   "source": [
    "%matplotlib inline\n",
    "from __future__ import division\n",
    "import warnings\n",
    "warnings.filterwarnings('ignore')"
   ]
  },
  {
   "cell_type": "code",
   "execution_count": null,
   "metadata": {},
   "outputs": [],
   "source": [
    "import pandas as pd\n",
    "import numpy as np\n",
    "import seaborn as sns\n",
    "import matplotlib.pyplot as plt\n",
    "from datetime import datetime\n",
    "import struct\n",
    "import pickle\n",
    "import pandas as pd\n",
    "import random"
   ]
  },
  {
   "cell_type": "code",
   "execution_count": null,
   "metadata": {},
   "outputs": [],
   "source": [
    "import sys\n",
    "sys.path.append('../../src')"
   ]
  },
  {
   "cell_type": "code",
   "execution_count": null,
   "metadata": {},
   "outputs": [],
   "source": [
    "from pylab import rcParams\n",
    "from IPython.display import clear_output\n",
    "rcParams['figure.figsize'] = 16, 8\n",
    "pd.options.display.max_columns = 999"
   ]
  },
  {
   "cell_type": "code",
   "execution_count": null,
   "metadata": {},
   "outputs": [],
   "source": [
    "from utils import FloatConvert32, FloatConvert64\n",
    "from microssembly2 import Microssembly\n",
    "from price_generator import random_walk, random_price"
   ]
  },
  {
   "cell_type": "code",
   "execution_count": null,
   "metadata": {},
   "outputs": [],
   "source": [
    "def get_strategy_signal(price, short_ma, long_ma, demo=False):\n",
    "    short_ma = abs(int(short_ma))\n",
    "    long_ma = abs(int(long_ma))\n",
    "    shares = 1\n",
    "\n",
    "    try:\n",
    "        ms = price.rolling(short_ma).mean()\n",
    "        ml = price.rolling(long_ma).mean()\n",
    "\n",
    "        buy = (ms > ml) & (ms.shift() < ml.shift())  # ma cross up\n",
    "        sell = (ms < ml) & (ms.shift() > ml.shift())  # ma cross down\n",
    "        signal = pd.Series(index=price.index)\n",
    "        signal[buy[buy != False].index] = shares\n",
    "        signal[sell[sell != False].index] = 0\n",
    "    except Exception as e:\n",
    "        print('Long {} Short {}'.format(long_ma, short_ma))\n",
    "        raise e\n",
    "\n",
    "    if demo is True:\n",
    "        ax = price.plot()\n",
    "        ms.plot()\n",
    "        ml.plot()\n",
    "        plt.legend(['price', 'Short MA', 'Long MA'], loc='best')\n",
    "        ax.xaxis.grid(True, which='minor', linestyle='-', linewidth=0.25)\n",
    "\n",
    "    return signal\n",
    "\n",
    "def get_strategy_signal_1(price):\n",
    "    return get_strategy_signal(price, 2, 8, False)"
   ]
  },
  {
   "cell_type": "code",
   "execution_count": null,
   "metadata": {},
   "outputs": [],
   "source": [
    "price = random_price()\n",
    "signal = get_strategy_signal(price, 2, 8, True)\n",
    "price.shape, signal.dropna().shape, signal.dropna()[:5]"
   ]
  },
  {
   "cell_type": "code",
   "execution_count": null,
   "metadata": {},
   "outputs": [],
   "source": [
    "from simple_strategy import get_signal, loss_function, eval_individual, find_best_model"
   ]
  },
  {
   "cell_type": "code",
   "execution_count": null,
   "metadata": {},
   "outputs": [],
   "source": [
    "mssembly = Microssembly(architecture = 4)\n",
    "data = [1, 2, 3, 4]\n",
    "mssembly.load_data(data)\n",
    "mssembly.memory"
   ]
  },
  {
   "cell_type": "code",
   "execution_count": null,
   "metadata": {},
   "outputs": [],
   "source": [
    "prog = ([\n",
    "    '110000001000',\n",
    "    '001110001110',\n",
    "    '110000011000',\n",
    "    '001110001110',\n",
    "    '110000101000',\n",
    "    '001110001110',\n",
    "    '110000111000',\n",
    "    '001110001110',\n",
    "    '101011000000',\n",
    "    '101011000000',\n",
    "    '101011000000',\n",
    "    '101011000000',\n",
    "    '010011101100',\n",
    "    '110011001111' \n",
    "])\n",
    "len(''.join(prog))"
   ]
  },
  {
   "cell_type": "code",
   "execution_count": null,
   "metadata": {},
   "outputs": [],
   "source": [
    "mssembly.run(''.join(prog), cycles=100)"
   ]
  },
  {
   "cell_type": "code",
   "execution_count": null,
   "metadata": {},
   "outputs": [],
   "source": [
    "assert mssembly.memory[15] == np.average(data), \"Something went wrong!!!\""
   ]
  },
  {
   "cell_type": "code",
   "execution_count": null,
   "metadata": {},
   "outputs": [],
   "source": [
    "loss = []\n",
    "for _ in range(1000):\n",
    "    price = random_price()\n",
    "    random_code = ''.join(list(map(str, np.random.randint(0, 2, size=1000))))\n",
    "    signal = get_signal(price, random_code)\n",
    "    observed_signal = get_strategy_signal_1(price)\n",
    "    l = loss_function(signal, observed_signal)    \n",
    "    if(l > 0):\n",
    "        loss.append(l)\n",
    "print(np.average(loss))"
   ]
  },
  {
   "cell_type": "code",
   "execution_count": null,
   "metadata": {},
   "outputs": [],
   "source": [
    "pop, hof, _ = find_best_model(get_strategy_signal_1,\n",
    "                              ngen=100,\n",
    "                              pop_size=1000,\n",
    "                              mutpb=0.001,\n",
    "                              indpb=0.1)"
   ]
  },
  {
   "cell_type": "code",
   "execution_count": null,
   "metadata": {},
   "outputs": [],
   "source": [
    "best_code = ''.join(map(str, hof[0]))"
   ]
  },
  {
   "cell_type": "code",
   "execution_count": null,
   "metadata": {},
   "outputs": [],
   "source": [
    "all_loss = []\n",
    "for i in range(100):\n",
    "    price = random_price()\n",
    "    signal = get_signal(price, best_code)\n",
    "    observed_signal = get_strategy_signal_1(price)\n",
    "    all_loss.append(loss_function(signal, observed_signal))\n",
    "np.average(all_loss)"
   ]
  },
  {
   "cell_type": "code",
   "execution_count": null,
   "metadata": {},
   "outputs": [],
   "source": [
    "signal.dropna()[:10]"
   ]
  },
  {
   "cell_type": "code",
   "execution_count": null,
   "metadata": {},
   "outputs": [],
   "source": [
    "pd.DataFrame({'true': observed_signal, 'generated': signal}).dropna().plot.bar()"
   ]
  },
  {
   "cell_type": "code",
   "execution_count": null,
   "metadata": {},
   "outputs": [],
   "source": [
    "import microssembly\n",
    "mssembly = Microssembly(in_memory_length=3, out_memory_length=1, registers_length=3)\n",
    "mssembly.out_memory[0] = np.NaN\n",
    "mssembly.run(best_code)"
   ]
  },
  {
   "cell_type": "code",
   "execution_count": null,
   "metadata": {},
   "outputs": [],
   "source": [
    "a = sum(signal[observed_signal[observed_signal == 1].index] == 1) / len(observed_signal[observed_signal == 1]) + 1e-9\n",
    "b = sum(signal[observed_signal[observed_signal == 0].index] == 0) / len(observed_signal[observed_signal == 0]) + 1e-9\n",
    "c = 1 - np.abs(len(observed_signal.dropna()) - len(signal.dropna())) / max(len(observed_signal.dropna()), len(signal.dropna())) + 1e-9"
   ]
  },
  {
   "cell_type": "code",
   "execution_count": null,
   "metadata": {},
   "outputs": [],
   "source": [
    "3 / (1/a + 1/b + 1/c)"
   ]
  },
  {
   "cell_type": "code",
   "execution_count": null,
   "metadata": {},
   "outputs": [],
   "source": [
    "a = 0.9\n",
    "b = 0.9\n",
    "c = 0.3\n",
    "3 / (1/a + 1/b + 1/c)"
   ]
  },
  {
   "cell_type": "code",
   "execution_count": null,
   "metadata": {},
   "outputs": [],
   "source": [
    "d = pd.read_csv('/Users/vorl/Downloads/allstocks.csv')"
   ]
  },
  {
   "cell_type": "code",
   "execution_count": null,
   "metadata": {},
   "outputs": [],
   "source": [
    "d[(d.buy == 1) & (d.sell == 1)]"
   ]
  },
  {
   "cell_type": "code",
   "execution_count": null,
   "metadata": {},
   "outputs": [],
   "source": [
    "d.shape"
   ]
  },
  {
   "cell_type": "code",
   "execution_count": null,
   "metadata": {},
   "outputs": [],
   "source": [
    "d[(d.buy == 1) | (d.sell == 1)].shape"
   ]
  },
  {
   "cell_type": "code",
   "execution_count": null,
   "metadata": {},
   "outputs": [],
   "source": [
    "2935 / 101673"
   ]
  },
  {
   "cell_type": "code",
   "execution_count": null,
   "metadata": {},
   "outputs": [],
   "source": [
    "60 * 0.028"
   ]
  },
  {
   "cell_type": "code",
   "execution_count": null,
   "metadata": {},
   "outputs": [],
   "source": [
    "1000 * 0.028"
   ]
  },
  {
   "cell_type": "code",
   "execution_count": null,
   "metadata": {},
   "outputs": [],
   "source": []
  }
 ],
 "metadata": {
  "kernelspec": {
   "display_name": "Python 3",
   "language": "python",
   "name": "python3"
  },
  "language_info": {
   "codemirror_mode": {
    "name": "ipython",
    "version": 3
   },
   "file_extension": ".py",
   "mimetype": "text/x-python",
   "name": "python",
   "nbconvert_exporter": "python",
   "pygments_lexer": "ipython3",
   "version": "3.6.5"
  }
 },
 "nbformat": 4,
 "nbformat_minor": 2
}
