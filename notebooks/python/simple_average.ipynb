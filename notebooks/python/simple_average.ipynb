{
 "cells": [
  {
   "cell_type": "code",
   "execution_count": 1,
   "metadata": {},
   "outputs": [],
   "source": [
    "%matplotlib inline\n",
    "from __future__ import division\n",
    "import warnings\n",
    "warnings.filterwarnings('ignore')"
   ]
  },
  {
   "cell_type": "code",
   "execution_count": 26,
   "metadata": {},
   "outputs": [],
   "source": [
    "import pandas as pd\n",
    "import numpy as np\n",
    "import seaborn as sns\n",
    "import matplotlib.pyplot as plt\n",
    "from datetime import datetime\n",
    "import struct\n",
    "import pickle"
   ]
  },
  {
   "cell_type": "code",
   "execution_count": 3,
   "metadata": {},
   "outputs": [],
   "source": [
    "from pylab import rcParams\n",
    "rcParams['figure.figsize'] = 16, 8\n",
    "pd.options.display.max_columns = 999"
   ]
  },
  {
   "cell_type": "code",
   "execution_count": 4,
   "metadata": {},
   "outputs": [],
   "source": [
    "import sys\n",
    "sys.path.append('../../src')"
   ]
  },
  {
   "cell_type": "code",
   "execution_count": 5,
   "metadata": {},
   "outputs": [],
   "source": [
    "from utils import FloatConvert32, FloatConvert64\n",
    "from microssembly import Microssembly"
   ]
  },
  {
   "cell_type": "code",
   "execution_count": 6,
   "metadata": {},
   "outputs": [
    {
     "data": {
      "text/plain": [
       "'01000000010010001111010111000011'"
      ]
     },
     "execution_count": 6,
     "metadata": {},
     "output_type": "execute_result"
    }
   ],
   "source": [
    "FloatConvert32.float_to_bin(3.14)"
   ]
  },
  {
   "cell_type": "code",
   "execution_count": 7,
   "metadata": {},
   "outputs": [
    {
     "data": {
      "text/plain": [
       "(3.140000104904175, 32)"
      ]
     },
     "execution_count": 7,
     "metadata": {},
     "output_type": "execute_result"
    }
   ],
   "source": [
    "FloatConvert32.bin_to_float(FloatConvert32.float_to_bin(3.14)), len(FloatConvert32.float_to_bin(3.14))"
   ]
  },
  {
   "cell_type": "code",
   "execution_count": 8,
   "metadata": {},
   "outputs": [
    {
     "data": {
      "text/plain": [
       "(3.14, 64)"
      ]
     },
     "execution_count": 8,
     "metadata": {},
     "output_type": "execute_result"
    }
   ],
   "source": [
    "FloatConvert64.bin_to_float(FloatConvert64.float_to_bin(3.14)), len(FloatConvert64.float_to_bin(3.14))"
   ]
  },
  {
   "cell_type": "code",
   "execution_count": 9,
   "metadata": {},
   "outputs": [],
   "source": [
    "import microssembly\n",
    "mssembly = Microssembly()"
   ]
  },
  {
   "cell_type": "code",
   "execution_count": 10,
   "metadata": {},
   "outputs": [],
   "source": [
    "data = [1, 2, 3, 4, 5]\n",
    "mssembly.load_data(data)"
   ]
  },
  {
   "cell_type": "code",
   "execution_count": 11,
   "metadata": {},
   "outputs": [],
   "source": [
    "prog = ([\n",
    "    '000100000',\n",
    "    '100010', \n",
    "    '000100010',\n",
    "    '100010',\n",
    "    '000100100',\n",
    "    '100010',\n",
    "    '000100110',\n",
    "    '100010',\n",
    "    '000101000',\n",
    "    '100010',\n",
    "    '010100000'\n",
    "])"
   ]
  },
  {
   "cell_type": "code",
   "execution_count": 12,
   "metadata": {
    "scrolled": true
   },
   "outputs": [
    {
     "data": {
      "text/plain": [
       "['load [0] [0]',\n",
       " 'max [1] [0]',\n",
       " 'load [1] [0]',\n",
       " 'max [1] [0]',\n",
       " 'load [2] [0]',\n",
       " 'max [1] [0]',\n",
       " 'load [3] [0]',\n",
       " 'max [1] [0]',\n",
       " 'load [4] [0]',\n",
       " 'max [1] [0]',\n",
       " 'unload [0] [0]']"
      ]
     },
     "execution_count": 12,
     "metadata": {},
     "output_type": "execute_result"
    }
   ],
   "source": [
    "mssembly.run(''.join(prog))"
   ]
  },
  {
   "cell_type": "code",
   "execution_count": 13,
   "metadata": {},
   "outputs": [
    {
     "data": {
      "text/plain": [
       "(5.0, 5)"
      ]
     },
     "execution_count": 13,
     "metadata": {},
     "output_type": "execute_result"
    }
   ],
   "source": [
    "mssembly.out_memory[0], np.max(data)"
   ]
  },
  {
   "cell_type": "code",
   "execution_count": 14,
   "metadata": {},
   "outputs": [],
   "source": [
    "from simple_max import find_best_model, eval_individual"
   ]
  },
  {
   "cell_type": "markdown",
   "metadata": {},
   "source": [
    "pop, hof, _ = find_best_model(ngen=3000, pop_size=1000, mutpb=0.5, indpb=0.1)"
   ]
  },
  {
   "cell_type": "code",
   "execution_count": 32,
   "metadata": {},
   "outputs": [],
   "source": [
    "with open('/Users/vorl/projects/smu/models/MSDS6306/simple_max.pkl', 'rb') as f:\n",
    "    hof = pickle.load(f)"
   ]
  },
  {
   "cell_type": "code",
   "execution_count": 33,
   "metadata": {},
   "outputs": [
    {
     "data": {
      "text/plain": [
       "(0.84,)"
      ]
     },
     "execution_count": 33,
     "metadata": {},
     "output_type": "execute_result"
    }
   ],
   "source": [
    "eval_individual(''.join(map(str, hof[0])))"
   ]
  },
  {
   "cell_type": "code",
   "execution_count": 34,
   "metadata": {},
   "outputs": [
    {
     "data": {
      "text/plain": [
       "(array([ 21, 468, 350, 584]),\n",
       " array([584.,   0.,   0.,   0.,   0.,  21.,   0.,   0., 585.,   0.,   0.,\n",
       "          0.,   0.,   0.,   0.,   0.]))"
      ]
     },
     "execution_count": 34,
     "metadata": {},
     "output_type": "execute_result"
    }
   ],
   "source": [
    "mssembly = microssembly.Microssembly()\n",
    "data = np.random.randint(np.random.randint(1000, size=1)[0], size=4)\n",
    "mssembly.reset()\n",
    "mssembly.load_data(data.tolist())\n",
    "trace = mssembly.run(''.join(map(str, hof[0])))\n",
    "data, mssembly.out_memory"
   ]
  },
  {
   "cell_type": "code",
   "execution_count": 35,
   "metadata": {},
   "outputs": [
    {
     "data": {
      "text/plain": [
       "['unload [1] [9]',\n",
       " 'max [1] [1]',\n",
       " 'load [3] [0]',\n",
       " 'unload [1] [4]',\n",
       " 'unload [1] [1]',\n",
       " 'load [2] [1]',\n",
       " 'max [0] [0]',\n",
       " 'max [1] [0]',\n",
       " 'ignore',\n",
       " 'div [1] [0]',\n",
       " 'inc [0]',\n",
       " 'max [1] [1]',\n",
       " 'load [8] [0]',\n",
       " 'ignore',\n",
       " 'dec [1]',\n",
       " 'load [11] [0]',\n",
       " 'inc [1]',\n",
       " 'dec [0]',\n",
       " 'add [1] [0]',\n",
       " 'stop-ignore',\n",
       " 'inc [1]',\n",
       " 'max [0] [1]',\n",
       " 'load [0] [1]',\n",
       " 'max [1] [0]',\n",
       " 'unload [1] [5]',\n",
       " 'load [0] [1]',\n",
       " 'stop-ignore',\n",
       " 'unload [0] [0]',\n",
       " 'inc [1]',\n",
       " 'inc [0]',\n",
       " 'max [1] [1]',\n",
       " 'unload [0] [8]']"
      ]
     },
     "execution_count": 35,
     "metadata": {},
     "output_type": "execute_result"
    }
   ],
   "source": [
    "trace"
   ]
  },
  {
   "cell_type": "code",
   "execution_count": 36,
   "metadata": {},
   "outputs": [],
   "source": [
    "x = []\n",
    "x_hat = []\n",
    "y = []\n",
    "\n",
    "for i in range(50):\n",
    "    mssembly = microssembly.Microssembly()\n",
    "    data = np.random.randint(np.random.randint(1000, size=1)[0], size=4)\n",
    "    mssembly.reset()\n",
    "    mssembly.load_data(data.tolist())\n",
    "    trace = mssembly.run(''.join(map(str, hof[0])))\n",
    "    data, mssembly.out_memory\n",
    "    y.append(i)\n",
    "    x.append(np.max(data))\n",
    "    x_hat.append(mssembly.out_memory[0])"
   ]
  },
  {
   "cell_type": "code",
   "execution_count": 37,
   "metadata": {
    "scrolled": false
   },
   "outputs": [
    {
     "data": {
      "text/plain": [
       "<matplotlib.axes._subplots.AxesSubplot at 0x1a10115668>"
      ]
     },
     "execution_count": 37,
     "metadata": {},
     "output_type": "execute_result"
    },
    {
     "data": {
      "image/png": "[encoded data removed]",
      "text/plain": [
       "<Figure size 1152x576 with 1 Axes>"
      ]
     },
     "metadata": {},
     "output_type": "display_data"
    }
   ],
   "source": [
    "import pandas as pd\n",
    "df = pd.DataFrame({'max': x, 'max_learned': x_hat}, index=y)\n",
    "df.sort_values('max').reset_index(drop=True).plot.bar()"
   ]
  },
  {
   "cell_type": "code",
   "execution_count": 38,
   "metadata": {},
   "outputs": [
    {
     "data": {
      "text/plain": [
       "'111101011100100101000110000000100110000001011010001011000100010010110010011011000100110010010111010100100011111000011000001101011100011011011101010110110110100111000101101001001111010100001000010001000011000101101010110101000000010000101111101001001010000000001010110100100011110011100000010101000011'"
      ]
     },
     "execution_count": 38,
     "metadata": {},
     "output_type": "execute_result"
    }
   ],
   "source": [
    "''.join(map(str, hof[0]))"
   ]
  },
  {
   "cell_type": "code",
   "execution_count": 31,
   "metadata": {},
   "outputs": [],
   "source": [
    "with open('/Users/vorl/projects/smu/models/MSDS6306/simple_max.pkl', 'wb') as f:\n",
    "    pickle.dump(hof, f)"
   ]
  },
  {
   "cell_type": "code",
   "execution_count": null,
   "metadata": {},
   "outputs": [],
   "source": []
  }
 ],
 "metadata": {
  "kernelspec": {
   "display_name": "Python 3",
   "language": "python",
   "name": "python3"
  },
  "language_info": {
   "codemirror_mode": {
    "name": "ipython",
    "version": 3
   },
   "file_extension": ".py",
   "mimetype": "text/x-python",
   "name": "python",
   "nbconvert_exporter": "python",
   "pygments_lexer": "ipython3",
   "version": "3.6.5"
  }
 },
 "nbformat": 4,
 "nbformat_minor": 2
}
