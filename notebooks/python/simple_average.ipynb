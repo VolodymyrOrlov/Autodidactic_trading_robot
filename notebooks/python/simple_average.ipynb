{
 "cells": [
  {
   "cell_type": "code",
   "execution_count": null,
   "metadata": {},
   "outputs": [],
   "source": [
    "%matplotlib inline\n",
    "from __future__ import division\n",
    "import warnings\n",
    "warnings.filterwarnings('ignore')"
   ]
  },
  {
   "cell_type": "code",
   "execution_count": null,
   "metadata": {},
   "outputs": [],
   "source": [
    "import pandas as pd\n",
    "import numpy as np\n",
    "import seaborn as sns\n",
    "import matplotlib.pyplot as plt\n",
    "from datetime import datetime\n",
    "import struct\n",
    "import pickle"
   ]
  },
  {
   "cell_type": "code",
   "execution_count": null,
   "metadata": {},
   "outputs": [],
   "source": [
    "from pylab import rcParams\n",
    "rcParams['figure.figsize'] = 16, 8\n",
    "pd.options.display.max_columns = 999"
   ]
  },
  {
   "cell_type": "code",
   "execution_count": null,
   "metadata": {},
   "outputs": [],
   "source": [
    "import sys\n",
    "sys.path.append('../../src')"
   ]
  },
  {
   "cell_type": "code",
   "execution_count": null,
   "metadata": {},
   "outputs": [],
   "source": [
    "from microssembly2 import Microssembly"
   ]
  },
  {
   "cell_type": "code",
   "execution_count": null,
   "metadata": {},
   "outputs": [],
   "source": [
    "mssembly = Microssembly(memory_length = 4, int_length = 8)"
   ]
  },
  {
   "cell_type": "code",
   "execution_count": null,
   "metadata": {},
   "outputs": [],
   "source": [
    "data = [1, 2, 3, 4]\n",
    "mssembly.load_data(data)\n",
    "mssembly.memory"
   ]
  },
  {
   "cell_type": "code",
   "execution_count": null,
   "metadata": {},
   "outputs": [],
   "source": [
    "prog = ([\n",
    "    '110000001000',\n",
    "    '001110001110',\n",
    "    '110000011000',\n",
    "    '001110001110',\n",
    "    '110000101000',\n",
    "    '001110001110',\n",
    "    '110000111000',\n",
    "    '001110001110',\n",
    "    '10101111',\n",
    "    '10101111',\n",
    "    '10101111',\n",
    "    '10101111',\n",
    "    '010011101111'    \n",
    "])\n",
    "len(''.join(prog))"
   ]
  },
  {
   "cell_type": "code",
   "execution_count": null,
   "metadata": {
    "scrolled": true
   },
   "outputs": [],
   "source": [
    "mssembly.run(''.join(prog), cycles=100)"
   ]
  },
  {
   "cell_type": "code",
   "execution_count": null,
   "metadata": {},
   "outputs": [],
   "source": [
    "assert mssembly.memory[15] == np.average(data), \"Something went wrong!!!\""
   ]
  },
  {
   "cell_type": "code",
   "execution_count": null,
   "metadata": {},
   "outputs": [],
   "source": [
    "from simple_avg import find_best_model, eval_individual"
   ]
  },
  {
   "cell_type": "code",
   "execution_count": null,
   "metadata": {},
   "outputs": [],
   "source": [
    "pop, hof, _ = find_best_model(ngen=5000, pop_size=1000, mutpb=0.01, indpb=0.5, ind_size=300)"
   ]
  },
  {
   "cell_type": "markdown",
   "metadata": {},
   "source": [
    "with open('/Users/vorl/projects/smu/models/MSDS6306/simple_max.pkl', 'rb') as f:\n",
    "    hof = pickle.load(f)"
   ]
  },
  {
   "cell_type": "code",
   "execution_count": null,
   "metadata": {},
   "outputs": [],
   "source": [
    "eval_individual(''.join(map(str, hof[0])))"
   ]
  },
  {
   "cell_type": "code",
   "execution_count": null,
   "metadata": {},
   "outputs": [],
   "source": [
    "mssembly = Microssembly(memory_length = 4, int_length = 8)\n",
    "data = np.random.randint(np.random.randint(1000, size=1)[0], size=4)\n",
    "mssembly.reset()\n",
    "mssembly.load_data(data.tolist())\n",
    "trace = mssembly.run(''.join(map(str, hof[0])))\n",
    "data, mssembly.memory"
   ]
  },
  {
   "cell_type": "code",
   "execution_count": null,
   "metadata": {},
   "outputs": [],
   "source": [
    "trace"
   ]
  },
  {
   "cell_type": "code",
   "execution_count": null,
   "metadata": {},
   "outputs": [],
   "source": [
    "x = []\n",
    "x_hat = []\n",
    "y = []\n",
    "\n",
    "for i in range(50):\n",
    "    mssembly = Microssembly(memory_length = 4, int_length = 8)\n",
    "    data = np.random.randint(np.random.randint(10000, size=1)[0], size=4)\n",
    "    mssembly.reset()\n",
    "    mssembly.load_data(data.tolist())\n",
    "    trace = mssembly.run(''.join(map(str, hof[0])))\n",
    "    y.append(i)\n",
    "    x.append(np.average(data))\n",
    "    x_hat.append(mssembly.memory[15])"
   ]
  },
  {
   "cell_type": "code",
   "execution_count": null,
   "metadata": {
    "scrolled": false
   },
   "outputs": [],
   "source": [
    "import pandas as pd\n",
    "df = pd.DataFrame({'max': x, 'max_learned': x_hat}, index=y)\n",
    "df.sort_values('max').reset_index(drop=True).plot.bar()"
   ]
  },
  {
   "cell_type": "code",
   "execution_count": null,
   "metadata": {},
   "outputs": [],
   "source": [
    "''.join(map(str, hof[0]))"
   ]
  },
  {
   "cell_type": "code",
   "execution_count": null,
   "metadata": {},
   "outputs": [],
   "source": [
    "with open('/Users/vorl/projects/smu/models/MSDS6306/simple_max.pkl', 'wb') as f:\n",
    "    pickle.dump(hof, f)"
   ]
  },
  {
   "cell_type": "markdown",
   "metadata": {},
   "source": []
  }
 ],
 "metadata": {
  "kernelspec": {
   "display_name": "Python 3",
   "language": "python",
   "name": "python3"
  },
  "language_info": {
   "codemirror_mode": {
    "name": "ipython",
    "version": 3
   },
   "file_extension": ".py",
   "mimetype": "text/x-python",
   "name": "python",
   "nbconvert_exporter": "python",
   "pygments_lexer": "ipython3",
   "version": "3.6.5"
  }
 },
 "nbformat": 4,
 "nbformat_minor": 2
}
